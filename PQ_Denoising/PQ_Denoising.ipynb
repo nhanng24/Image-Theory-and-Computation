{
 "cells": [
  {
   "cell_type": "code",
   "execution_count": null,
   "metadata": {
    "collapsed": false
   },
   "outputs": [
    {
     "ename": "",
     "evalue": "",
     "output_type": "error",
     "traceback": [
      "\u001b[1;31mThe kernel failed to start due to an error with the 'pyzmq' module. Consider re-installing this module.\n",
      "\u001b[1;31mClick <a href='https://aka.ms/kernelFailuresPyzmq'>here</a> for more info."
     ]
    }
   ],
   "source": [
    "# Initialize plotting:\n",
    "%matplotlib inline\n",
    "# Import all relevant packages\n",
    "import PIL\n",
    "from PIL import Image\n",
    "import scipy.ndimage\n",
    "import numpy as np, matplotlib.pyplot as plt\n",
    "import scipy.stats\n",
    "import scipy as sp\n",
    "from ipywidgets import interact\n",
    "from scipy.integrate import solve_ivp\n",
    "\n",
    "from importlib import reload\n",
    "from IPython.display import clear_output, display\n",
    "\n",
    "# Suppress some logging messages in Pillow (Python Imaging Library)\n",
    "import logging; logging.getLogger('PIL').setLevel(logging.ERROR)  # Suppress PIL messages\n"
   ]
  },
  {
   "attachments": {},
   "cell_type": "markdown",
   "metadata": {
    "collapsed": false
   },
   "source": [
    "# PQ Denoising"
   ]
  },
  {
   "attachments": {},
   "cell_type": "markdown",
   "metadata": {
    "collapsed": false
   },
   "source": [
    "$$\n",
    "  E[u] = \\frac{1}{p}\\int |\\vec{\\nabla}u|^p + \\lambda \\frac{1}{q}\\int|u - d|^q,\\\\\n",
    "  E'[u] = -\\vec{\\nabla}u\\cdot( |\\vec{\\nabla}u|^{p-2}\\vec{\\nabla}u) + \\lambda (u-d)|u - d|^{q-2}.\n",
    "$$\n",
    "\n",
    "When $p<2$ or $q<2$, the computation of $E'(u)$ can run into numerical issues (divide by zero).  We can regulate these as follows:\n",
    "\n",
    "$$\n",
    "  E'[u] = -\\vec{\\nabla}u\\cdot\\Bigl((\\vec{\\nabla}u)(|{\\vec{\\nabla}u}|^2 + \\epsilon)^{(p-2)/2}\\Bigr) + \\lambda (u-d)\\Bigl(|u - d| + \\eta\\Bigr)^{q-2}.\n",
    "$$"
   ]
  },
  {
   "cell_type": "code",
   "execution_count": null,
   "metadata": {
    "collapsed": false
   },
   "outputs": [
    {
     "ename": "",
     "evalue": "",
     "output_type": "error",
     "traceback": [
      "\u001b[1;31mThe kernel failed to start due to an error with the 'pyzmq' module. Consider re-installing this module.\n",
      "\u001b[1;31mClick <a href='https://aka.ms/kernelFailuresPyzmq'>here</a> for more info."
     ]
    }
   ],
   "source": [
    "import denoise\n",
    "\n",
    "sigma = 0.4\n",
    "lam = 0.1\n",
    "eps = np.finfo(float).eps\n",
    "eta = np.finfo(float).eps\n",
    "\n",
    "im = denoise.Image()\n",
    "d = denoise.Denoise(image=im, sigma=sigma, lam=lam, mode=\"wrap\")\n",
    "\n",
    "Nx, Ny = im.shape\n",
    "dx = dy = 1.0\n",
    "x = (np.arange(Nx) * dx)[:, np.newaxis] #he didn't change these, but he might have meant to \n",
    "y = (np.arange(Ny) * dy)[np.newaxis, :]\n",
    "kx = 2 * np.pi * np.fft.fftfreq(Nx, dx)[:, np.newaxis]\n",
    "ky = 2 * np.pi * np.fft.fftfreq(Ny, dy)[np.newaxis, :]\n",
    "\n",
    "fft, ifft = np.fft.fftn, np.fft.ifftn\n",
    "\n",
    "\n",
    "def gradient(u):\n",
    "    \"\"\"Return the gradient of u.\"\"\"\n",
    "    ut = fft(u)\n",
    "    du_dx = ifft(1j * kx * ut).real\n",
    "    du_dy = ifft(1j * ky * ut).real\n",
    "    return du_dx, du_dy\n",
    "\n",
    "\n",
    "def divergence(ux, uy):\n",
    "    return (ifft(1j * kx * fft(ux) + 1j * ky * fft(uy))).real #alt return (ifft(1j * kx * fft(ux)) + ifft(1j * ky * fft(uy))).real\n",
    "\n",
    "\n",
    "def E(u, q=2, p=2, d=d.u_noise, lam=lam, eps=eps, eta=eta):\n",
    "    \"\"\"Return E.  Note: this is unregulated at q=1\"\"\"\n",
    "    du_dx, du_dy = gradient(u)\n",
    "    abs_du_p = (du_dx**2 + du_dy**2)**(p / 2)\n",
    "    return (abs_du_p + lam * abs(u - d)**q).sum() / Nx / Ny\n",
    "\n",
    "\n",
    "def dE(u, q=2, p=2, d=d.u_noise, lam=lam, eps=eps, eta=eta):\n",
    "    du_dx, du_dy = gradient(u)\n",
    "    abs_du_p_m2 = (du_dx**2 + du_dy**2 + eps)**((p - 2) / 2)\n",
    "    return (-divergence(abs_du_p_m2 * du_dx, abs_du_p_m2 * du_dy) + lam * (u - d) * (abs(u - d) + eta)**(q - 2)) / Nx / Ny #alt eta**2. eps and eta are machine precision terms\n",
    "            \n",
    "def pack(u):\n",
    "    return u.ravel()\n",
    "\n",
    "\n",
    "def unpack(x):\n",
    "    return x.reshape((Nx, Ny))\n",
    "\n",
    "\n",
    "def f(x, **kw):\n",
    "    u = unpack(x)\n",
    "    return E(u, **kw)\n",
    "\n",
    "\n",
    "def df(x, **kw):\n",
    "    u = unpack(x)\n",
    "    return pack(dE(u, **kw))\n",
    "\n",
    "\n",
    "def callback(x, plot=False):\n",
    "    u = unpack(x)\n",
    "\n",
    "    msg = f\"E={E(u):.4g}\"\n",
    "    if plot:\n",
    "        import IPython.display\n",
    "\n",
    "        fig = plt.gcf()\n",
    "        ax = plt.gca()\n",
    "        ax.cla()\n",
    "        IPython.display.clear_output(wait=True)\n",
    "        im.show(u, ax=ax)\n",
    "        ax.set(title=msg)\n",
    "        IPython.display.display(fig)\n",
    "    else:\n",
    "        print(msg)"
   ]
  },
  {
   "cell_type": "code",
   "execution_count": null,
   "metadata": {
    "collapsed": false,
    "scrolled": true
   },
   "outputs": [
    {
     "ename": "",
     "evalue": "",
     "output_type": "error",
     "traceback": [
      "\u001b[1;31mThe kernel failed to start due to an error with the 'pyzmq' module. Consider re-installing this module.\n",
      "\u001b[1;31mClick <a href='https://aka.ms/kernelFailuresPyzmq'>here</a> for more info."
     ]
    }
   ],
   "source": [
    "from functools import partial\n",
    "from scipy.optimize import minimize\n",
    "\n",
    "eta = eps = np.finfo(float).eps \n",
    "sigma = 0.4 #noise weight\n",
    "lam = 1 #fidelity weight \n",
    "q = 2 \n",
    "p = 2 \n",
    "\n",
    "im = denoise.Image()\n",
    "d = denoise.Denoise(image=im, sigma=sigma, lam=lam, mode=\"wrap\")\n",
    "\n",
    "x0 = pack(d.u_noise)\n",
    "\n",
    "args = dict(p=p, q=q, lam=lam, d=d.u_noise, eps=eps, eta=eta)\n",
    "res = minimize(partial(f, **args),\n",
    "               x0=x0,\n",
    "               jac=partial(df, **args),\n",
    "               method=\"L-BFGS-B\",\n",
    "               tol=1e-6, #increase tolerance for fast run speed\n",
    "               callback=partial(callback, plot=False)) #plot  False for faster\n",
    "clear_output()\n",
    "u_solve = d.solve()\n",
    "\n",
    "data = [\n",
    "    (\"Original\", d.u_exact),\n",
    "    (f\"Noise σ={sigma}\", d.u_noise),\n",
    "    (f\"{q=}, {p=}, {lam=}\", unpack(res.x)),\n",
    "    (f\"Solve q=2, p=2, {lam=}\", u_solve),\n",
    "]\n",
    "\n",
    "fig, axs = denoise.subplots(len(data), height=4)\n",
    "for ax, (title, u) in zip(axs, data):\n",
    "    im.show(u, ax=ax)\n",
    "    ax.set(title=title)"
   ]
  },
  {
   "cell_type": "code",
   "execution_count": null,
   "metadata": {
    "collapsed": false,
    "scrolled": true
   },
   "outputs": [
    {
     "ename": "",
     "evalue": "",
     "output_type": "error",
     "traceback": [
      "\u001b[1;31mThe kernel failed to start due to an error with the 'pyzmq' module. Consider re-installing this module.\n",
      "\u001b[1;31mClick <a href='https://aka.ms/kernelFailuresPyzmq'>here</a> for more info."
     ]
    }
   ],
   "source": [
    "from functools import partial\n",
    "from scipy.optimize import minimize\n",
    "\n",
    "eta = eps = np.finfo(float).eps \n",
    "sigma = .4 # noise weight\n",
    "lam = 1 # fidelity weight \n",
    "q = 1.1  # Try 1.1\n",
    "p = 1.1 # Try 1.1\n",
    "\n",
    "im = denoise.Image()\n",
    "d = denoise.Denoise(image=im, sigma=sigma, lam=lam, mode=\"wrap\")\n",
    "\n",
    "x0 = pack(d.u_noise)\n",
    "\n",
    "args = dict(p=p, q=q, lam=lam, d=d.u_noise, eps=eps, eta=eta)\n",
    "res = minimize(partial(f, **args),\n",
    "               x0=x0,\n",
    "               jac=partial(df, **args),\n",
    "               method=\"L-BFGS-B\",\n",
    "               tol=1e-6, #increase tolerance for fast run speed\n",
    "               callback=partial(callback, plot=True)) #plot  False for faster got rid of callback.\n",
    "clear_output()\n",
    "u_solve = d.solve()\n",
    "\n",
    "data = [\n",
    "    (\"Original\", d.u_exact),\n",
    "    (f\"Noise σ={sigma}\", d.u_noise),\n",
    "    (f\"{q=}, {p=}, {lam=}\", unpack(res.x)),\n",
    "    (f\"Solve q=2, p=2, {lam=}\", u_solve),\n",
    "]\n",
    "\n",
    "fig, axs = denoise.subplots(len(data), height=4)\n",
    "for ax, (title, u) in zip(axs, data):\n",
    "    im.show(u, ax=ax)\n",
    "    ax.set(title=title)"
   ]
  },
  {
   "cell_type": "code",
   "execution_count": null,
   "metadata": {},
   "outputs": [
    {
     "ename": "",
     "evalue": "",
     "output_type": "error",
     "traceback": [
      "\u001b[1;31mThe kernel failed to start due to an error with the 'pyzmq' module. Consider re-installing this module.\n",
      "\u001b[1;31mClick <a href='https://aka.ms/kernelFailuresPyzmq'>here</a> for more info."
     ]
    }
   ],
   "source": []
  },
  {
   "cell_type": "code",
   "execution_count": null,
   "metadata": {},
   "outputs": [
    {
     "ename": "",
     "evalue": "",
     "output_type": "error",
     "traceback": [
      "\u001b[1;31mThe kernel failed to start due to an error with the 'pyzmq' module. Consider re-installing this module.\n",
      "\u001b[1;31mClick <a href='https://aka.ms/kernelFailuresPyzmq'>here</a> for more info."
     ]
    }
   ],
   "source": []
  },
  {
   "cell_type": "code",
   "execution_count": null,
   "metadata": {},
   "outputs": [
    {
     "ename": "",
     "evalue": "",
     "output_type": "error",
     "traceback": [
      "\u001b[1;31mThe kernel failed to start due to an error with the 'pyzmq' module. Consider re-installing this module.\n",
      "\u001b[1;31mClick <a href='https://aka.ms/kernelFailuresPyzmq'>here</a> for more info."
     ]
    }
   ],
   "source": []
  },
  {
   "cell_type": "code",
   "execution_count": null,
   "metadata": {},
   "outputs": [
    {
     "ename": "",
     "evalue": "",
     "output_type": "error",
     "traceback": [
      "\u001b[1;31mThe kernel failed to start due to an error with the 'pyzmq' module. Consider re-installing this module.\n",
      "\u001b[1;31mClick <a href='https://aka.ms/kernelFailuresPyzmq'>here</a> for more info."
     ]
    }
   ],
   "source": []
  },
  {
   "cell_type": "code",
   "execution_count": null,
   "metadata": {},
   "outputs": [],
   "source": []
  }
 ],
 "metadata": {
  "kernelspec": {
   "display_name": "math_583",
   "language": "python",
   "name": "python3"
  },
  "language_info": {
   "codemirror_mode": {
    "name": "ipython",
    "version": 3
   },
   "file_extension": ".py",
   "mimetype": "text/x-python",
   "name": "python",
   "nbconvert_exporter": "python",
   "pygments_lexer": "ipython3",
   "version": "3.8.16"
  },
  "vscode": {
   "interpreter": {
    "hash": "498640e2f90b0fb19de5551cb7036cd3d7c747bf9b0b9eebad8f9d24160e3ee1"
   }
  }
 },
 "nbformat": 4,
 "nbformat_minor": 4
}
